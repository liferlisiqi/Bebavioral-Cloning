{
 "cells": [
  {
   "cell_type": "markdown",
   "metadata": {},
   "source": [
    "# Data explority and pre-process"
   ]
  },
  {
   "cell_type": "code",
   "execution_count": 2,
   "metadata": {},
   "outputs": [],
   "source": [
    "import csv\n",
    "import cv2\n",
    "import numpy as np\n",
    "import os\n",
    "import pickle\n",
    "from sklearn.utils import shuffle\n",
    "from tqdm import tqdm"
   ]
  },
  {
   "cell_type": "markdown",
   "metadata": {},
   "source": [
    "## 1 Load data"
   ]
  },
  {
   "cell_type": "code",
   "execution_count": 3,
   "metadata": {},
   "outputs": [
    {
     "name": "stdout",
     "output_type": "stream",
     "text": [
      "8036\n"
     ]
    }
   ],
   "source": [
    "lines = []\n",
    "with open('./sample_data/data/driving_log.csv') as sample_file:\n",
    "    sample_file.readline()\n",
    "    reader = csv.reader(sample_file)\n",
    "    for line in reader:\n",
    "        lines.append(line)\n",
    "print(len(lines))"
   ]
  },
  {
   "cell_type": "markdown",
   "metadata": {},
   "source": [
    "## 2 Get images and tune angles"
   ]
  },
  {
   "cell_type": "code",
   "execution_count": 4,
   "metadata": {},
   "outputs": [
    {
     "name": "stderr",
     "output_type": "stream",
     "text": [
      "100%|██████████| 8036/8036 [02:20<00:00, 57.03it/s]\n"
     ]
    },
    {
     "name": "stdout",
     "output_type": "stream",
     "text": [
      "(24108, 80, 80, 3) (24108,)\n"
     ]
    }
   ],
   "source": [
    "images = []\n",
    "angles = []\n",
    "for line in tqdm(lines):\n",
    "    center_path = './sample_data/data/IMG/' + line[0].split('/')[-1]\n",
    "    center_img = cv2.imread(center_path)\n",
    "    center_img = cv2.resize(center_img, None, fx=0.25, fy=0.5)\n",
    "    center_img = cv2.cvtColor(center_img, cv2.COLOR_BGR2RGB)\n",
    "    center_angle = float(line[3])\n",
    "    images.append(center_img)\n",
    "    angles.append(center_angle)\n",
    "    \n",
    "    left_path = './sample_data/data/IMG/' + line[1].split('/')[-1]\n",
    "    left_img = cv2.imread(left_path)\n",
    "    left_img = cv2.resize(left_img, None, fx=0.25, fy=0.5)\n",
    "    left_img = cv2.cvtColor(left_img, cv2.COLOR_BGR2RGB)\n",
    "    left_angle = float(line[3]) + 0.10\n",
    "    images.append(left_img)\n",
    "    angles.append(left_angle)\n",
    "    \n",
    "    right_path = './sample_data/data/IMG/' + line[2].split('/')[-1]\n",
    "    right_img = cv2.imread(right_path)\n",
    "    right_img = cv2.resize(right_img, None, fx=0.25, fy=0.5)\n",
    "    right_img = cv2.cvtColor(right_img, cv2.COLOR_BGR2RGB)\n",
    "    right_angle = float(line[3]) - 0.10\n",
    "    images.append(right_img)\n",
    "    angles.append(right_angle)\n",
    "    \n",
    "X_train = np.array(images)\n",
    "y_train = np.array(angles)\n",
    "print(X_train.shape, y_train.shape)"
   ]
  },
  {
   "cell_type": "markdown",
   "metadata": {},
   "source": [
    "## Save the pre-processed data"
   ]
  },
  {
   "cell_type": "code",
   "execution_count": null,
   "metadata": {},
   "outputs": [],
   "source": [
    "def save_data(pickle_file):\n",
    "    if not os.path.isfile(pickle_file):\n",
    "        print('Saving data to pickle file...')\n",
    "        try:\n",
    "            with open(pickle_file, 'wb') as pfile:\n",
    "                pickle.dump(\n",
    "                    {\n",
    "                        'X_train': X_train,\n",
    "                        'y_train': y_train\n",
    "                    },\n",
    "                    pfile, protocol=2)\n",
    "        except Exception as e:\n",
    "            print('Unable to save data to', pickle_file, ':', e)\n",
    "            raise\n",
    "    print('Data cached in pickle file.')\n",
    "    \n",
    "save_data('./pre-data.pickle')"
   ]
  }
 ],
 "metadata": {
  "kernelspec": {
   "display_name": "Python 3",
   "language": "python",
   "name": "python3"
  },
  "language_info": {
   "codemirror_mode": {
    "name": "ipython",
    "version": 3
   },
   "file_extension": ".py",
   "mimetype": "text/x-python",
   "name": "python",
   "nbconvert_exporter": "python",
   "pygments_lexer": "ipython3",
   "version": "3.5.2"
  }
 },
 "nbformat": 4,
 "nbformat_minor": 2
}
